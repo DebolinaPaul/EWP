{
 "cells": [
  {
   "cell_type": "markdown",
   "metadata": {},
   "source": [
    "### Load the libraries"
   ]
  },
  {
   "cell_type": "code",
   "execution_count": 2,
   "metadata": {
    "scrolled": true
   },
   "outputs": [],
   "source": [
    "library(pracma)\n",
    "library(igraph)"
   ]
  },
  {
   "cell_type": "markdown",
   "metadata": {},
   "source": [
    "### Load the functions"
   ]
  },
  {
   "cell_type": "code",
   "execution_count": 3,
   "metadata": {},
   "outputs": [],
   "source": [
    "m_s=function(y,s){\n",
    "  a=mean(y^s)\n",
    "  a=a^(1/s)\n",
    "  return(a)\n",
    "}\n",
    "obj_power.k.means=function(X,theta,s){\n",
    "  s1=0\n",
    "  n=dim(X)[1]\n",
    "  k=dim(theta)[1]\n",
    "  y=numeric(k)\n",
    "  for(i in 1:n){\n",
    "    for(j in 1:k){\n",
    "      y[j]=sum((X[i,]-theta[j,])^2)\n",
    "    }\n",
    "    s1=s1+m_s(y,s)\n",
    "  }\n",
    "  return(s1)\n",
    "}\n",
    "\n",
    "power.k.means=function(X,s=-1,k,eta=1.04,\n",
    "                       tmax=200,tol=10^(-3)){\n",
    "  n=dim(X)[1]\n",
    "  p=dim(X)[2]\n",
    "  W=matrix(0,nrow=n,ncol=k)\n",
    "  m=matrix(0,nrow=n,ncol=k)\n",
    "  label=numeric(n)\n",
    "  dd=numeric(k)\n",
    "  #initialization\n",
    "  sam=sample(n,k)\n",
    "  theta=X[sam,]\n",
    "  #theta=rand(k,p)\n",
    "  #theta=rand(k,p)\n",
    "  for(i in 1:p){\n",
    "    theta[,i]=theta[,i]+rnorm(k,0,0.1)\n",
    "  }\n",
    "  val1=theta\n",
    "  coef = numeric(n)\n",
    "  for(t in 1:tmax){\n",
    "    if(t==tmax){\n",
    "      cat(coef)\n",
    "      cat(\"\\n\")\n",
    "      cat(W[1,])\n",
    "      cat(\"\\n\")\n",
    "    }\n",
    "    #update weights\n",
    "    for(i in 1:n){\n",
    "      for(l in 1:k){\n",
    "        m[i,l]=sum((X[i,]-theta[l,])^2)\n",
    "      }\n",
    "      coef[i] = (sum(m[i,]^s))^((1/s)-1)\n",
    "    }\n",
    "    for(i in 1:n){\n",
    "      for(l in 1:k){\n",
    "        W[i,l]=m[i,l]^(s-1)*coef[i]\n",
    "      }\n",
    "    }\n",
    "    #update centroids\n",
    "    for(l in 1:k){\n",
    "      for(d in 1:p){\n",
    "        theta[l,d]=(sum(W[,l]*X[,d]))/sum(W[,l])\n",
    "      }\n",
    "    }\n",
    "    #update s\n",
    "    if(t%%2==0){s=eta*s}\n",
    "    cat(t)\n",
    "    cat('\\n')\n",
    "    t=t+1\n",
    "    val2=theta\n",
    "    if(norm(val1-val2)<tol){\n",
    "      break\n",
    "    }else{\n",
    "      val1=val2\n",
    "    }\n",
    "  }\n",
    "  for(i in 1:n){\n",
    "    for(j in 1:k){\n",
    "      dd[j]=sum((X[i,]-theta[j,])^2)\n",
    "    }\n",
    "    label[i]=which.min(dd)\n",
    "  }\n",
    "  list1=list(theta,label)\n",
    "  names(list1)=c('theta','label')\n",
    "  return(list1)\n",
    "}\n",
    "\n",
    "entropy_obj_weighted.power.k.means=function(X,theta,s,W,lambda){\n",
    "  s1=0\n",
    "  n=dim(X)[1]\n",
    "  k=dim(theta)[1]\n",
    "  y=numeric(k)\n",
    "  for(i in 1:n){\n",
    "    for(j in 1:k){\n",
    "      y[j]=sum((X[i,]-theta[j,])^2*W)\n",
    "    }\n",
    "    s1=s1+m_s(y,s)\n",
    "  }\n",
    "  s1=s1+lambda*sum(W*log(W))\n",
    "  return(s1)\n",
    "}\n",
    "\n",
    "w.norm=function(y,w,beta){\n",
    "  return(sum(y^2*w^(beta)))\n",
    "}\n",
    "entropy_weight.power.k.means=function(X,s=-1,k,lambda,eta=1.04,beta=1,tmax=200,tol=10^(-5)){\n",
    "  n=dim(X)[1]\n",
    "  p=dim(X)[2]\n",
    "  phi=matrix(0,nrow=n,ncol=k)\n",
    "  m=matrix(0,nrow=n,ncol=k)\n",
    "  label=numeric(n)\n",
    "  dd=numeric(k)\n",
    "  #initialization\n",
    "  sam=sample(n,k)\n",
    "  theta=X[sam,]\n",
    "  #theta=rand(k,p)\n",
    "  #theta=rand(k,p)\n",
    "  for(i in 1:p){\n",
    "    theta[,i]=theta[,i]+rnorm(k,0,0.1)\n",
    "  }\n",
    "  W=rep(1/p,p)\n",
    "  D=rep(0,p)\n",
    "  val1=theta\n",
    "  \n",
    "  for(t in 1:tmax){\n",
    "    #update membership\n",
    "    for(i in 1:n){\n",
    "      for(l in 1:k){\n",
    "        m[i,l]=w.norm((X[i,]-theta[l,]),W,beta)\n",
    "      }\n",
    "    }\n",
    "    for(i in 1:n){\n",
    "      for(l in 1:k){\n",
    "        phi[i,l]=(m[i,l]+0.0001)^(s-1)*(sum(m[i,]^s)+0.0001)^((1/s)-1)\n",
    "      }\n",
    "    }\n",
    "    #update centroids\n",
    "    for(l in 1:k){\n",
    "      for(d in 1:p){\n",
    "        theta[l,d]=(sum(phi[,l]*X[,d]))/sum(phi[,l])\n",
    "      }\n",
    "    }\n",
    "    #update s\n",
    "    if(t%%2==0){\n",
    "    s=eta*s\n",
    "    }\n",
    "    #update feature weights\n",
    "    for(l in 1:p){\n",
    "      s1=0\n",
    "      for(i in 1:n){\n",
    "        for(j in 1:k){\n",
    "          s1=s1+phi[i,j]*(X[i,l]-theta[j,l])^2\n",
    "        }\n",
    "      }\n",
    "      D[l]=exp(-s1/lambda)\n",
    "    }\n",
    "    W=D/sum(D)\n",
    "    cat(t)\n",
    "    cat('\\n')\n",
    "    t=t+1\n",
    "    val2=theta\n",
    "    if(norm(val1-val2)<tol){\n",
    "      break\n",
    "    }else{\n",
    "      val1=val2\n",
    "    }\n",
    "  }\n",
    "  for(i in 1:n){\n",
    "    for(j in 1:k){\n",
    "      dd[j]=sum((X[i,]-theta[j,])^2*W)\n",
    "    }\n",
    "    label[i]=which.min(dd)\n",
    "  }\n",
    "  list2=list(theta,label,W)\n",
    "  names(list2)=c('theta','label','weight')\n",
    "  return(list2)\n",
    "}\n",
    "data_generate=function(n,M,prob1,sigma,sigma2){\n",
    "  p=dim(M)[2]\n",
    "  X=matrix(0,n,p)\n",
    "  k=dim(M)[1]\n",
    "  label=numeric(n)\n",
    "  for(i in 1:n){\n",
    "    s=sample(1:k,size=1,prob=prob1)\n",
    "    for(l in 1:p){\n",
    "      if(M[s,l]==0){\n",
    "        X[i,l]=rnorm(1,M[s,l],sigma2)\n",
    "      }else{\n",
    "        X[i,l]=rnorm(1,M[s,l],sigma)\n",
    "      }\n",
    "\n",
    "    }\n",
    "    label[i]=s\n",
    "  }\n",
    "  ls=list(X,label)\n",
    "  names(ls)=c('data','label')\n",
    "  return(ls)\n",
    "}"
   ]
  },
  {
   "cell_type": "markdown",
   "metadata": {},
   "source": [
    "### Generate the Data"
   ]
  },
  {
   "cell_type": "code",
   "execution_count": 57,
   "metadata": {},
   "outputs": [],
   "source": [
    "k=5\n",
    "p=20\n",
    "M=rand(k,p)\n",
    "\n",
    "prop=0.95\n",
    "s=sample(p,floor(p*prop))\n",
    "s=6:20\n",
    "M[,s]=0\n",
    "X=data_generate(1000,M,rep(1/k,k),0.02,1)\n",
    "toss=X$label\n",
    "X=X$data"
   ]
  },
  {
   "cell_type": "markdown",
   "metadata": {},
   "source": [
    "Normalise the data (optional)"
   ]
  },
  {
   "cell_type": "code",
   "execution_count": 59,
   "metadata": {},
   "outputs": [],
   "source": [
    "p=dim(X)[2]\n",
    "for(i in 1:p){\n",
    "  X[,i]=(X[,i]-mean(X[,i]))/sd(X[,i])\n",
    "}"
   ]
  },
  {
   "cell_type": "code",
   "execution_count": 74,
   "metadata": {
    "scrolled": true
   },
   "outputs": [
    {
     "name": "stdout",
     "output_type": "stream",
     "text": [
      "1\n",
      "2\n",
      "3\n",
      "4\n",
      "5\n",
      "6\n",
      "7\n",
      "8\n",
      "9\n",
      "10\n",
      "11\n",
      "12\n",
      "13\n",
      "14\n"
     ]
    }
   ],
   "source": [
    "l=entropy_weight.power.k.means(X,k=k,s=-1,lambda=10,tmax=200,tol=0.001)"
   ]
  },
  {
   "cell_type": "code",
   "execution_count": 75,
   "metadata": {
    "scrolled": true
   },
   "outputs": [
    {
     "data": {
      "text/html": [
       "1"
      ],
      "text/latex": [
       "1"
      ],
      "text/markdown": [
       "1"
      ],
      "text/plain": [
       "[1] 1"
      ]
     },
     "metadata": {},
     "output_type": "display_data"
    },
    {
     "data": {
      "text/html": [
       "1"
      ],
      "text/latex": [
       "1"
      ],
      "text/markdown": [
       "1"
      ],
      "text/plain": [
       "[1] 1"
      ]
     },
     "metadata": {},
     "output_type": "display_data"
    }
   ],
   "source": [
    "compare(toss,l$label,'nmi')\n",
    "compare(toss,l$label,'adjusted.rand')"
   ]
  },
  {
   "cell_type": "code",
   "execution_count": 76,
   "metadata": {
    "scrolled": true
   },
   "outputs": [
    {
     "data": {
      "text/html": [
       "<ol class=list-inline>\n",
       "\t<li>0.138012191855092</li>\n",
       "\t<li>0.202263769425908</li>\n",
       "\t<li>0.162645620606395</li>\n",
       "\t<li>0.264927870768136</li>\n",
       "\t<li>0.232150547344469</li>\n",
       "\t<li>7.9823547293465e-42</li>\n",
       "\t<li>5.27088497960263e-42</li>\n",
       "\t<li>8.87092522890206e-42</li>\n",
       "\t<li>8.4403357561847e-42</li>\n",
       "\t<li>6.96277933412724e-42</li>\n",
       "\t<li>8.15735490355873e-42</li>\n",
       "\t<li>9.44206815122039e-42</li>\n",
       "\t<li>7.42735435007309e-42</li>\n",
       "\t<li>7.56201840761902e-42</li>\n",
       "\t<li>1.28412555913383e-41</li>\n",
       "\t<li>6.36157271640332e-42</li>\n",
       "\t<li>1.16510746566077e-41</li>\n",
       "\t<li>2.47749040168835e-41</li>\n",
       "\t<li>8.28784081512283e-42</li>\n",
       "\t<li>9.01574389692695e-42</li>\n",
       "</ol>\n"
      ],
      "text/latex": [
       "\\begin{enumerate*}\n",
       "\\item 0.138012191855092\n",
       "\\item 0.202263769425908\n",
       "\\item 0.162645620606395\n",
       "\\item 0.264927870768136\n",
       "\\item 0.232150547344469\n",
       "\\item 7.9823547293465e-42\n",
       "\\item 5.27088497960263e-42\n",
       "\\item 8.87092522890206e-42\n",
       "\\item 8.4403357561847e-42\n",
       "\\item 6.96277933412724e-42\n",
       "\\item 8.15735490355873e-42\n",
       "\\item 9.44206815122039e-42\n",
       "\\item 7.42735435007309e-42\n",
       "\\item 7.56201840761902e-42\n",
       "\\item 1.28412555913383e-41\n",
       "\\item 6.36157271640332e-42\n",
       "\\item 1.16510746566077e-41\n",
       "\\item 2.47749040168835e-41\n",
       "\\item 8.28784081512283e-42\n",
       "\\item 9.01574389692695e-42\n",
       "\\end{enumerate*}\n"
      ],
      "text/markdown": [
       "1. 0.138012191855092\n",
       "2. 0.202263769425908\n",
       "3. 0.162645620606395\n",
       "4. 0.264927870768136\n",
       "5. 0.232150547344469\n",
       "6. 7.9823547293465e-42\n",
       "7. 5.27088497960263e-42\n",
       "8. 8.87092522890206e-42\n",
       "9. 8.4403357561847e-42\n",
       "10. 6.96277933412724e-42\n",
       "11. 8.15735490355873e-42\n",
       "12. 9.44206815122039e-42\n",
       "13. 7.42735435007309e-42\n",
       "14. 7.56201840761902e-42\n",
       "15. 1.28412555913383e-41\n",
       "16. 6.36157271640332e-42\n",
       "17. 1.16510746566077e-41\n",
       "18. 2.47749040168835e-41\n",
       "19. 8.28784081512283e-42\n",
       "20. 9.01574389692695e-42\n",
       "\n",
       "\n"
      ],
      "text/plain": [
       " [1] 1.380122e-01 2.022638e-01 1.626456e-01 2.649279e-01 2.321505e-01\n",
       " [6] 7.982355e-42 5.270885e-42 8.870925e-42 8.440336e-42 6.962779e-42\n",
       "[11] 8.157355e-42 9.442068e-42 7.427354e-42 7.562018e-42 1.284126e-41\n",
       "[16] 6.361573e-42 1.165107e-41 2.477490e-41 8.287841e-42 9.015744e-42"
      ]
     },
     "metadata": {},
     "output_type": "display_data"
    }
   ],
   "source": [
    "l$weight"
   ]
  },
  {
   "cell_type": "code",
   "execution_count": 80,
   "metadata": {
    "scrolled": true
   },
   "outputs": [
    {
     "data": {
      "image/png": "[encoded data removed]",
      "text/plain": [
       "plot without title"
      ]
     },
     "metadata": {},
     "output_type": "display_data"
    }
   ],
   "source": [
    "plot(X,col=l$label+1)\n",
    "points(l$theta,pch=18,col=1)"
   ]
  }
 ],
 "metadata": {
  "kernelspec": {
   "display_name": "R",
   "language": "R",
   "name": "ir"
  },
  "language_info": {
   "codemirror_mode": "r",
   "file_extension": ".r",
   "mimetype": "text/x-r-source",
   "name": "R",
   "pygments_lexer": "r",
   "version": "3.6.1"
  }
 },
 "nbformat": 4,
 "nbformat_minor": 2
}
